{
 "cells": [
  {
   "cell_type": "code",
   "execution_count": 1,
   "id": "03c0ec04",
   "metadata": {},
   "outputs": [],
   "source": [
    "import pandas as pd\n",
    "# pandas to_csv, to_excel, DataFrame already aata hai!!\n",
    "# each column in a dataframe is a series"
   ]
  },
  {
   "cell_type": "code",
   "execution_count": 2,
   "id": "fe680feb",
   "metadata": {},
   "outputs": [
    {
     "data": {
      "text/plain": [
       "<module 'pandas._version' from 'C:\\\\Users\\\\abhig\\\\anaconda3\\\\lib\\\\site-packages\\\\pandas\\\\_version.py'>"
      ]
     },
     "execution_count": 2,
     "metadata": {},
     "output_type": "execute_result"
    }
   ],
   "source": [
    "pd._version"
   ]
  },
  {
   "cell_type": "code",
   "execution_count": 27,
   "id": "8b2ddf65",
   "metadata": {
    "scrolled": true
   },
   "outputs": [
    {
     "name": "stdout",
     "output_type": "stream",
     "text": [
      "   cars  wheels  car_age\n",
      "0   bmw       2      100\n",
      "1   mer       4       98\n",
      "2  audi       6       89\n",
      "==============================================================================================================================\n",
      "       wheels     car_age\n",
      "count     3.0    3.000000\n",
      "mean      4.0   95.666667\n",
      "std       2.0    5.859465\n",
      "min       2.0   89.000000\n",
      "25%       3.0   93.500000\n",
      "50%       4.0   98.000000\n",
      "75%       5.0   99.000000\n",
      "max       6.0  100.000000\n",
      "==============================================================================================================================\n",
      "cars       object\n",
      "wheels      int64\n",
      "car_age     int64\n",
      "dtype: object\n",
      "==============================================================================================================================\n",
      "<class 'pandas.core.frame.DataFrame'>\n",
      "RangeIndex: 3 entries, 0 to 2\n",
      "Data columns (total 3 columns):\n",
      " #   Column   Non-Null Count  Dtype \n",
      "---  ------   --------------  ----- \n",
      " 0   cars     3 non-null      object\n",
      " 1   wheels   3 non-null      int64 \n",
      " 2   car_age  3 non-null      int64 \n",
      "dtypes: int64(2), object(1)\n",
      "memory usage: 200.0+ bytes\n",
      "None\n"
     ]
    }
   ],
   "source": [
    "mydf = pd.DataFrame({'cars':['bmw', 'mer', 'audi'], 'wheels':[2, 4, 6], 'car_age':[100, 98, 89]})\n",
    "print(mydf)\n",
    "print('======='*18)\n",
    "\n",
    "# only numercical data comes in describe\n",
    "print(mydf.describe())\n",
    "\n",
    "print('======='*18)\n",
    "print(mydf.dtypes)\n",
    "\n",
    "print('======='*18)\n",
    "print(mydf.info())"
   ]
  },
  {
   "cell_type": "code",
   "execution_count": null,
   "id": "a4a9ff39",
   "metadata": {},
   "outputs": [],
   "source": [
    "print(pd.Series(mydf['wheels']).max())\n",
    "# same as \n",
    "print(mydf['wheels'].max())"
   ]
  },
  {
   "cell_type": "code",
   "execution_count": 42,
   "id": "e13ce261",
   "metadata": {},
   "outputs": [
    {
     "name": "stdout",
     "output_type": "stream",
     "text": [
      "   cars  car_age\n",
      "0   bmw      100\n",
      "1   mer       98\n",
      "2  audi       89\n",
      "=======================================================================================================================\n",
      "   cars  wheels  car_age\n",
      "1   mer       4       98\n",
      "2  audi       6       89\n"
     ]
    }
   ],
   "source": [
    "# filters \n",
    "mydf = pd.DataFrame({'cars':['bmw', 'mer', 'audi'], 'wheels':[2, 4, 6], 'car_age':[100, 98, 89]})\n",
    "\n",
    "name_age = mydf[['cars', 'car_age']]\n",
    "print(name_age)\n",
    "print('======='*17)\n",
    "\n",
    "mydf = mydf[(mydf['wheels'] >= 4) & (mydf['car_age'] < 100)]\n",
    "print(mydf)"
   ]
  },
  {
   "cell_type": "code",
   "execution_count": 57,
   "id": "12806728",
   "metadata": {},
   "outputs": [
    {
     "data": {
      "text/html": [
       "<div>\n",
       "<style scoped>\n",
       "    .dataframe tbody tr th:only-of-type {\n",
       "        vertical-align: middle;\n",
       "    }\n",
       "\n",
       "    .dataframe tbody tr th {\n",
       "        vertical-align: top;\n",
       "    }\n",
       "\n",
       "    .dataframe thead th {\n",
       "        text-align: right;\n",
       "    }\n",
       "</style>\n",
       "<table border=\"1\" class=\"dataframe\">\n",
       "  <thead>\n",
       "    <tr style=\"text-align: right;\">\n",
       "      <th></th>\n",
       "      <th>cars</th>\n",
       "      <th>wheels</th>\n",
       "    </tr>\n",
       "  </thead>\n",
       "  <tbody>\n",
       "    <tr>\n",
       "      <th>0</th>\n",
       "      <td>bmw</td>\n",
       "      <td>2</td>\n",
       "    </tr>\n",
       "    <tr>\n",
       "      <th>1</th>\n",
       "      <td>mer</td>\n",
       "      <td>4</td>\n",
       "    </tr>\n",
       "  </tbody>\n",
       "</table>\n",
       "</div>"
      ],
      "text/plain": [
       "  cars  wheels\n",
       "0  bmw       2\n",
       "1  mer       4"
      ]
     },
     "execution_count": 57,
     "metadata": {},
     "output_type": "execute_result"
    }
   ],
   "source": [
    "# iloc[row, col] slicing\n",
    "\n",
    "mydf = pd.DataFrame({'cars':['bmw', 'mer', 'audi', 'mer'], 'wheels':[2, 4, 6, 7], 'car_age':[100, 98, 89, 109]})\n",
    "mydf.iloc[:2, :2]"
   ]
  },
  {
   "cell_type": "markdown",
   "id": "4e3f7523",
   "metadata": {},
   "source": [
    "#### ploting with pandas"
   ]
  },
  {
   "cell_type": "code",
   "execution_count": 61,
   "id": "d83cab29",
   "metadata": {
    "scrolled": true
   },
   "outputs": [
    {
     "data": {
      "image/png": "[encoded data removed]",
      "text/plain": [
       "<Figure size 432x288 with 1 Axes>"
      ]
     },
     "metadata": {
      "needs_background": "light"
     },
     "output_type": "display_data"
    },
    {
     "name": "stdout",
     "output_type": "stream",
     "text": [
      "None\n"
     ]
    },
    {
     "data": {
      "image/png": "[encoded data removed]",
      "text/plain": [
       "<Figure size 432x288 with 1 Axes>"
      ]
     },
     "metadata": {
      "needs_background": "light"
     },
     "output_type": "display_data"
    },
    {
     "name": "stdout",
     "output_type": "stream",
     "text": [
      "None\n"
     ]
    }
   ],
   "source": [
    "import matplotlib.pyplot as plt\n",
    "\n",
    "mydf.plot()\n",
    "print(plt.show())\n",
    "\n",
    "mydf['car_age'].plot()\n",
    "print(plt.show())\n",
    "\n",
    "# we can do any plot using mydf.plot.plot_name eg mydf.plot.scatter() for scatter plot"
   ]
  },
  {
   "cell_type": "code",
   "execution_count": 76,
   "id": "fdb09008",
   "metadata": {
    "scrolled": false
   },
   "outputs": [
    {
     "name": "stdout",
     "output_type": "stream",
     "text": [
      "  CarName  wheels  car_age\n",
      "0     bmw       2      100\n",
      "1     mer       4       98\n",
      "2    audi       6       89\n",
      "3     mer       7      109\n",
      "============================================================================================================\n",
      "0     4\n",
      "1     8\n",
      "2    12\n",
      "3    14\n",
      "Name: wheels, dtype: int64\n",
      "============================================================================================================\n",
      "   cars  wheels  car_age  updated_wheels\n",
      "0   bmw       2      100               4\n",
      "1   mer       4       98               8\n",
      "2  audi       6       89              12\n",
      "3   mer       7      109              14\n"
     ]
    }
   ],
   "source": [
    "# updating or renaming columns\n",
    "\n",
    "mydf = pd.DataFrame({'cars':['bmw', 'mer', 'audi', 'mer'], 'wheels':[2, 4, 6, 7], 'car_age':[100, 98, 89, 109]})\n",
    "\n",
    "print(mydf.rename(columns={'cars':'CarName'}))\n",
    "print('======'*18)\n",
    "\n",
    "new_col = mydf['wheels'] * 2\n",
    "print(new_col)\n",
    "print('======'*18)\n",
    "\n",
    "mydf['updated_wheels'] = new_col\n",
    "print(mydf)"
   ]
  },
  {
   "cell_type": "code",
   "execution_count": 101,
   "id": "9f271363",
   "metadata": {
    "scrolled": true
   },
   "outputs": [
    {
     "name": "stdout",
     "output_type": "stream",
     "text": [
      "   cars  wheels  car_age  updated_wheels\n",
      "0   bmw       2      100               4\n",
      "1   mer       4       98               8\n",
      "2  audi       6       89              12\n",
      "3     4       4        4               4\n",
      "================================================================================\n",
      "        cars  car_age  updated_wheels\n",
      "wheels                               \n",
      "2          1        1               1\n",
      "4          2        2               2\n",
      "6          1        1               1\n"
     ]
    }
   ],
   "source": [
    "# pandas groupby\n",
    "mydf[mydf['wheels'] == 7] = 4\n",
    "print(mydf)\n",
    "print('===='*20)\n",
    "\n",
    "print(mydf.groupby('wheels').count())\n",
    "# print(mydf.groupby(['wheels', 'other_colmn']).count())"
   ]
  },
  {
   "cell_type": "code",
   "execution_count": null,
   "id": "674c4c31",
   "metadata": {},
   "outputs": [],
   "source": []
  },
  {
   "cell_type": "code",
   "execution_count": null,
   "id": "da845031",
   "metadata": {},
   "outputs": [],
   "source": []
  },
  {
   "cell_type": "code",
   "execution_count": null,
   "id": "016053c0",
   "metadata": {},
   "outputs": [],
   "source": []
  },
  {
   "cell_type": "code",
   "execution_count": null,
   "id": "380a70ad",
   "metadata": {},
   "outputs": [],
   "source": []
  },
  {
   "cell_type": "code",
   "execution_count": null,
   "id": "ab6e0a73",
   "metadata": {},
   "outputs": [],
   "source": []
  },
  {
   "cell_type": "code",
   "execution_count": null,
   "id": "ff900019",
   "metadata": {},
   "outputs": [],
   "source": []
  }
 ],
 "metadata": {
  "kernelspec": {
   "display_name": "Python 3 (ipykernel)",
   "language": "python",
   "name": "python3"
  },
  "language_info": {
   "codemirror_mode": {
    "name": "ipython",
    "version": 3
   },
   "file_extension": ".py",
   "mimetype": "text/x-python",
   "name": "python",
   "nbconvert_exporter": "python",
   "pygments_lexer": "ipython3",
   "version": "3.11.3"
  }
 },
 "nbformat": 4,
 "nbformat_minor": 5
}
