{
 "cells": [
  {
   "cell_type": "code",
   "execution_count": 2,
   "id": "ac502bbb",
   "metadata": {},
   "outputs": [],
   "source": [
    "# numpy mudule is made on c language the functions it provides works very fast compared to list\n",
    "# axis 0 row and axis 1 col\n",
    "import numpy as np"
   ]
  },
  {
   "cell_type": "code",
   "execution_count": 76,
   "id": "77ea2218",
   "metadata": {},
   "outputs": [
    {
     "name": "stdout",
     "output_type": "stream",
     "text": [
      "<class 'numpy.ndarray'>\n"
     ]
    },
    {
     "data": {
      "text/plain": [
       "array([[[1, 2, 3],\n",
       "        [4, 4, 6]],\n",
       "\n",
       "       [[3, 2, 1],\n",
       "        [5, 4, 3]]])"
      ]
     },
     "execution_count": 76,
     "metadata": {},
     "output_type": "execute_result"
    }
   ],
   "source": [
    "# creating array\n",
    "\n",
    "arr = np.array([[[1, 2, 3], [4, 4, 6]], [[3, 2, 1], [5, 4, 3]]])\n",
    "print(type(arr))\n",
    "arr"
   ]
  },
  {
   "cell_type": "code",
   "execution_count": 77,
   "id": "9164ad1b",
   "metadata": {},
   "outputs": [
    {
     "name": "stdout",
     "output_type": "stream",
     "text": [
      "3\n",
      "(2, 2, 3)\n",
      "[[1 2 3]\n",
      " [3 2 1]]\n"
     ]
    }
   ],
   "source": [
    "# array slicing arr[0, 1] / \n",
    "\n",
    "print(arr.ndim)\n",
    "print(arr.shape)\n",
    "print(arr[:, 0])"
   ]
  },
  {
   "cell_type": "code",
   "execution_count": 92,
   "id": "aa5a97d7",
   "metadata": {},
   "outputs": [
    {
     "name": "stdout",
     "output_type": "stream",
     "text": [
      "[[1 2 3]]\n",
      "2\n",
      "========================================================================================================================\n",
      "(2, 4)\n",
      "reshaped arr :-\n",
      " [[[1 2]\n",
      "  [3 4]]\n",
      "\n",
      " [[4 5]\n",
      "  [6 4]]] 3\n",
      "[[1 2 3 4]\n",
      " [4 5 6 4]] <-- base\n",
      "========================================================================================================================\n",
      "[1 2 3 4 4 5 6 4]\n"
     ]
    }
   ],
   "source": [
    "# setting dimensions\n",
    "diarr = np.array([[1, 2, 3]], ndmin=2)\n",
    "print(diarr)\n",
    "print(diarr.ndim)\n",
    "\n",
    "print('======'*20)\n",
    "\n",
    "# reshaping array\n",
    "diarr = np.array([[1, 2, 3, 4], [4, 5, 6, 4]])\n",
    "print(diarr.shape)\n",
    "diarr1 = diarr.reshape(2, 2, 2)\n",
    "print('reshaped arr :-\\n', diarr1, diarr1.ndim)\n",
    "print(diarr1.base, '<-- base')\n",
    "\n",
    "print('======'*20)\n",
    "\n",
    "# flatten the array\n",
    "diarr = diarr.reshape(-1)\n",
    "print(diarr)"
   ]
  },
  {
   "cell_type": "code",
   "execution_count": 97,
   "id": "5b19df15",
   "metadata": {},
   "outputs": [
    {
     "name": "stdout",
     "output_type": "stream",
     "text": [
      "[[[1 2 3]\n",
      "  [4 4 6]]\n",
      "\n",
      " [[3 2 1]\n",
      "  [5 4 3]]]\n",
      "\n",
      "[1 2 3 4 4 6 3 2 1 5 4 3]\n",
      "[1 2 3 4 4 6 3 2 1 5 4 3]\n"
     ]
    }
   ],
   "source": [
    "# faltten func\n",
    "print(arr)\n",
    "print()\n",
    "\n",
    "print(arr.flatten())\n",
    "# or\n",
    "print(arr.reshape(-1))"
   ]
  },
  {
   "cell_type": "code",
   "execution_count": 63,
   "id": "56954629",
   "metadata": {},
   "outputs": [
    {
     "name": "stdout",
     "output_type": "stream",
     "text": [
      "[[1.2 4.6 2.7]\n",
      " [5.6 8.9 3.7]]\n",
      "float64\n",
      "====================================================================================================\n",
      "[[1 4 2]\n",
      " [5 8 3]]\n",
      "int32\n"
     ]
    }
   ],
   "source": [
    "# astype function \n",
    "newarr = np.array([[1.2, 4.6, 2.7], \n",
    "                  [5.6, 8.9, 3.7]])\n",
    "\n",
    "print(newarr)\n",
    "print(newarr.dtype)\n",
    "\n",
    "newarr = newarr.astype(int)\n",
    "\n",
    "print('====='*20)\n",
    "print(newarr)\n",
    "print(newarr.dtype)"
   ]
  },
  {
   "cell_type": "code",
   "execution_count": 72,
   "id": "311e1790",
   "metadata": {},
   "outputs": [
    {
     "name": "stdout",
     "output_type": "stream",
     "text": [
      "[[ 1 10  3  4  5]\n",
      " [ 5  4  3  2  1]]\n",
      "[[ 1 10  3  4  5]\n",
      " [ 5  4  3  2  1]]\n",
      "========================================================================================================================\n",
      "[[ 1 10  3  4  5]\n",
      " [ 5  4  3  2  1]]\n",
      "[[1 2 3 4 5]\n",
      " [5 4 3 2 1]]\n",
      "None <-- check base arr\n",
      "========================================================================================================================\n",
      "[[ 1 10  3  4  5]\n",
      " [ 5  4  3  2  1]]\n",
      "[[ 1 10  3  4  5]\n",
      " [ 5  4  3  2  1]]\n",
      "[[ 1 10  3  4  5]\n",
      " [ 5  4  3  2  1]] <-- check base arr\n"
     ]
    }
   ],
   "source": [
    "# copy array\n",
    "\n",
    "cparr = np.array([[1, 2, 3, 4, 5], [5, 4, 3, 2, 1]])\n",
    "cparr2 = cparr # both will change\n",
    "cparr[0, 1] = 10\n",
    "print(cparr)\n",
    "print(cparr2)\n",
    "\n",
    "print('======'*20)\n",
    "\n",
    "cparr = np.array([[1, 2, 3, 4, 5], [5, 4, 3, 2, 1]])\n",
    "cparr2 = cparr.copy() # copy won't change\n",
    "cparr[0, 1] = 10\n",
    "print(cparr)\n",
    "print(cparr2)\n",
    "print(cparr2.base, '<-- check base arr')\n",
    "\n",
    "print('======'*20)\n",
    "\n",
    "cparr = np.array([[1, 2, 3, 4, 5], [5, 4, 3, 2, 1]])\n",
    "cparr2 = cparr.view() # both will change\n",
    "cparr[0, 1] = 10\n",
    "print(cparr)\n",
    "print(cparr2)\n",
    "print(cparr2.base, '<-- check base arr')\n"
   ]
  },
  {
   "cell_type": "code",
   "execution_count": 113,
   "id": "2b1b45cb",
   "metadata": {
    "scrolled": true
   },
   "outputs": [
    {
     "name": "stdout",
     "output_type": "stream",
     "text": [
      "[[[1 2 3]\n",
      "  [4 4 6]]\n",
      "\n",
      " [[3 2 1]\n",
      "  [5 4 3]]]\n",
      "1\n",
      "2\n",
      "3\n",
      "4\n",
      "4\n",
      "6\n",
      "3\n",
      "2\n",
      "1\n",
      "5\n",
      "4\n",
      "3\n",
      "====================================================================================================\n",
      "1\n",
      "2\n",
      "3\n",
      "4\n",
      "4\n",
      "6\n",
      "3\n",
      "2\n",
      "1\n",
      "5\n",
      "4\n",
      "3\n",
      "(0, 0, 0) 1\n",
      "(0, 0, 1) 2\n",
      "(0, 0, 2) 3\n",
      "(0, 1, 0) 4\n",
      "(0, 1, 1) 4\n",
      "(0, 1, 2) 6\n",
      "(1, 0, 0) 3\n",
      "(1, 0, 1) 2\n",
      "(1, 0, 2) 1\n",
      "(1, 1, 0) 5\n",
      "(1, 1, 1) 4\n",
      "(1, 1, 2) 3\n"
     ]
    }
   ],
   "source": [
    "# iteration\n",
    "print(arr)\n",
    "\n",
    "# for loop iteration for arr\n",
    "for i in arr:\n",
    "    for j in i:\n",
    "        for k in j:\n",
    "            print(k)\n",
    "            \n",
    "print('====='*20)\n",
    "\n",
    "# nditer for iteration\n",
    "for i in np.nditer(arr):\n",
    "    print(i)\n",
    "    \n",
    "# or\n",
    "\n",
    "for i, x in np.ndenumerate(arr):\n",
    "    print(i, x)"
   ]
  },
  {
   "cell_type": "code",
   "execution_count": 17,
   "id": "420cd6d0",
   "metadata": {},
   "outputs": [
    {
     "name": "stdout",
     "output_type": "stream",
     "text": [
      "[[1 2 3]]\n",
      "[[3 2 0]]\n",
      "==================================================================================================================\n",
      "[[1 2 3]\n",
      " [3 2 0]]\n",
      "==================================================================================================================\n"
     ]
    }
   ],
   "source": [
    "# concatenate\n",
    "arr1 = np.array([[1, 2, 3]])\n",
    "arr2 = np.array([[3, 2, 0]])\n",
    "\n",
    "print(arr1)\n",
    "print(arr2)\n",
    "print('======'*19)\n",
    "print(np.concatenate((arr1, arr2), axis=0))\n",
    "print('======'*19)"
   ]
  },
  {
   "cell_type": "code",
   "execution_count": 24,
   "id": "3d0f3831",
   "metadata": {},
   "outputs": [
    {
     "name": "stdout",
     "output_type": "stream",
     "text": [
      "[[1 2 3]\n",
      " [3 2 0]]\n",
      "============================================================================================================\n",
      "[[[1 2 3]]\n",
      "\n",
      " [[3 2 0]]]\n",
      "============================================================================================================\n",
      "[[1 2 3 3 2 0]]\n",
      "============================================================================================================\n",
      "[[1 2 3]\n",
      " [3 2 0]]\n",
      "============================================================================================================\n",
      "[[[1 3]\n",
      "  [2 2]\n",
      "  [3 0]]]\n"
     ]
    }
   ],
   "source": [
    "# concatenate with stack func\n",
    "# didnt unserstood.. for now moving on!!\n",
    "print(np.concatenate((arr1, arr2)))\n",
    "print('======'*18)\n",
    "print(np.stack((arr1, arr2)))\n",
    "print('======'*18)\n",
    "print(np.hstack((arr1, arr2)))\n",
    "print('======'*18)\n",
    "print(np.vstack((arr1, arr2)))\n",
    "print('======'*18)\n",
    "print(np.dstack((arr1, arr2)))"
   ]
  },
  {
   "cell_type": "code",
   "execution_count": 43,
   "id": "ed23e52f",
   "metadata": {},
   "outputs": [
    {
     "name": "stdout",
     "output_type": "stream",
     "text": [
      "[array([1, 2]), array([3, 4]), array([5, 6])]\n",
      "[array([1, 2]), array([3, 4]), array([5]), array([6])]\n",
      "[array([1, 2]), array([3]), array([4]), array([5]), array([6])]\n",
      "====================================================================================\n",
      "[array([[1, 2, 3],\n",
      "       [4, 5, 6]]), array([[ 7,  8,  9],\n",
      "       [10, 11, 12]])]\n",
      "[array([[ 1,  2],\n",
      "       [ 4,  5],\n",
      "       [ 7,  8],\n",
      "       [10, 11]]), array([[ 3],\n",
      "       [ 6],\n",
      "       [ 9],\n",
      "       [12]])]\n"
     ]
    }
   ],
   "source": [
    "# array spliting\n",
    "sparr = np.array([1, 2, 3, 4, 5, 6])\n",
    "print(np.array_split(sparr, 3))\n",
    "print(np.array_split(sparr, 4))\n",
    "print(np.array_split(sparr, 5))\n",
    "print('============'*7)\n",
    "\n",
    "sparr = np.array([[1, 2, 3], [4, 5, 6], [7, 8, 9], [10, 11, 12]])\n",
    "print(np.array_split(sparr, 2))\n",
    "print(np.array_split(sparr, 2, axis=1))\n",
    "# the hsplit, vsplit, dsplit also work...."
   ]
  },
  {
   "cell_type": "code",
   "execution_count": 66,
   "id": "7e2cfb6d",
   "metadata": {},
   "outputs": [
    {
     "name": "stdout",
     "output_type": "stream",
     "text": [
      "(array([3, 4], dtype=int64),)\n",
      "(array([0, 1], dtype=int64), array([1, 1], dtype=int64))\n",
      "====================================================================================\n",
      "6\n",
      "[1 2 3 4 5 6]\n"
     ]
    }
   ],
   "source": [
    "# searching in arr\n",
    "# returns index\n",
    "sarr = np.array([1, 2, 3, 4, 4, 6])\n",
    "print(np.where(sarr == 4))\n",
    "\n",
    "sarr = np.array([[1, 2, 3], [3, 2, 1]])\n",
    "print(np.where(sarr % 2 == 0))\n",
    "\n",
    "print('======'*14)\n",
    "sarr = np.array([6, 5, 4, 3, 2, 1])\n",
    "print(np.searchsorted(sarr, 4))\n",
    "\n",
    "# sorting\n",
    "print(np.sort(sarr))"
   ]
  },
  {
   "cell_type": "code",
   "execution_count": 71,
   "id": "e8ae857a",
   "metadata": {},
   "outputs": [
    {
     "name": "stdout",
     "output_type": "stream",
     "text": [
      "[1 3 5]\n"
     ]
    }
   ],
   "source": [
    "# filter array\n",
    "arr = np.array([2, 4, 6, 1, 3, 5])\n",
    "print(arr[(arr % 2) != 0])"
   ]
  },
  {
   "cell_type": "code",
   "execution_count": 4,
   "id": "a0376dfe",
   "metadata": {},
   "outputs": [
    {
     "name": "stdout",
     "output_type": "stream",
     "text": [
      "x    1\n",
      "y    7\n",
      "z    2\n",
      "dtype: int64\n"
     ]
    }
   ],
   "source": [
    "import pandas as pd\n",
    "\n",
    "a = [1, 7, 2]\n",
    "\n",
    "myvar = pd.Series(a, index = [\"x\", \"y\", \"z\"])\n",
    "\n",
    "print(myvar)"
   ]
  },
  {
   "cell_type": "code",
   "execution_count": null,
   "id": "fce4361b",
   "metadata": {},
   "outputs": [],
   "source": []
  },
  {
   "cell_type": "code",
   "execution_count": null,
   "id": "396aecf3",
   "metadata": {},
   "outputs": [],
   "source": []
  },
  {
   "cell_type": "code",
   "execution_count": null,
   "id": "5b6127aa",
   "metadata": {},
   "outputs": [],
   "source": []
  },
  {
   "cell_type": "code",
   "execution_count": null,
   "id": "390cd68c",
   "metadata": {},
   "outputs": [],
   "source": []
  }
 ],
 "metadata": {
  "kernelspec": {
   "display_name": "Python 3 (ipykernel)",
   "language": "python",
   "name": "python3"
  },
  "language_info": {
   "codemirror_mode": {
    "name": "ipython",
    "version": 3
   },
   "file_extension": ".py",
   "mimetype": "text/x-python",
   "name": "python",
   "nbconvert_exporter": "python",
   "pygments_lexer": "ipython3",
   "version": "3.9.12"
  }
 },
 "nbformat": 4,
 "nbformat_minor": 5
}
